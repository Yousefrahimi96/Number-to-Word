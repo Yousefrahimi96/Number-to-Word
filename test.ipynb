{
 "cells": [
  {
   "cell_type": "code",
   "execution_count": 4,
   "metadata": {},
   "outputs": [
    {
     "name": "stdout",
     "output_type": "stream",
     "text": [
      "256485636548\n",
      "Two Hundred And Fifty Six Billion Four Hundred And Eighty Five Million \n",
      " Six Hundred And Thirty Six Thousand Five Hundred And Forty Eight Only\n"
     ]
    }
   ],
   "source": [
    "print(256485636548)\n",
    "print('Two Hundred And Fifty Six Billion Four Hundred And Eighty Five Million \\n Six Hundred And Thirty Six Thousand Five Hundred And Forty Eight Only')"
   ]
  },
  {
   "cell_type": "code",
   "execution_count": 6,
   "metadata": {},
   "outputs": [
    {
     "name": "stdout",
     "output_type": "stream",
     "text": [
      "2\n",
      "5\n",
      "6\n",
      "2\n",
      "5\n",
      "8\n",
      "4\n",
      "5\n",
      "2\n"
     ]
    }
   ],
   "source": [
    "for dijit in \"256258452\":\n",
    "    print(dijit)"
   ]
  },
  {
   "cell_type": "code",
   "execution_count": null,
   "metadata": {},
   "outputs": [],
   "source": []
  }
 ],
 "metadata": {
  "kernelspec": {
   "display_name": "yousef",
   "language": "python",
   "name": "python3"
  },
  "language_info": {
   "codemirror_mode": {
    "name": "ipython",
    "version": 3
   },
   "file_extension": ".py",
   "mimetype": "text/x-python",
   "name": "python",
   "nbconvert_exporter": "python",
   "pygments_lexer": "ipython3",
   "version": "3.13.3"
  }
 },
 "nbformat": 4,
 "nbformat_minor": 2
}
